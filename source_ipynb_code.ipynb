{
  "nbformat": 4,
  "nbformat_minor": 0,
  "metadata": {
    "colab": {
      "provenance": [],
      "authorship_tag": "ABX9TyOJPGOPl4o67NkXNbuZmO4B",
      "include_colab_link": true
    },
    "kernelspec": {
      "name": "python3",
      "display_name": "Python 3"
    },
    "language_info": {
      "name": "python"
    }
  },
  "cells": [
    {
      "cell_type": "markdown",
      "metadata": {
        "id": "view-in-github",
        "colab_type": "text"
      },
      "source": [
        "<a href=\"https://colab.research.google.com/github/Fahim1008/Fahim/blob/main/source_ipynb_code.ipynb\" target=\"_parent\"><img src=\"https://colab.research.google.com/assets/colab-badge.svg\" alt=\"Open In Colab\"/></a>"
      ]
    },
    {
      "cell_type": "code",
      "execution_count": 4,
      "metadata": {
        "colab": {
          "base_uri": "https://localhost:8080/",
          "height": 767
        },
        "id": "tSLifWabh6PH",
        "outputId": "2c68a491-1064-4b01-a2e4-5a83f0d14f93"
      },
      "outputs": [
        {
          "output_type": "stream",
          "name": "stdout",
          "text": [
            "Data loaded successfully. Shape: (100, 4)\n",
            "\n",
            "Classification Report:\n",
            "              precision    recall  f1-score   support\n",
            "\n",
            "           0       0.09      0.11      0.10        19\n",
            "           1       0.06      0.05      0.05        21\n",
            "\n",
            "    accuracy                           0.07        40\n",
            "   macro avg       0.07      0.08      0.07        40\n",
            "weighted avg       0.07      0.07      0.07        40\n",
            "\n",
            "Accuracy Score: 0.075\n",
            "Confusion Matrix:\n",
            "[[ 2 17]\n",
            " [20  1]]\n"
          ]
        },
        {
          "output_type": "display_data",
          "data": {
            "text/plain": [
              "<Figure size 640x480 with 2 Axes>"
            ],
            "image/png": "[encoded data removed]"
          },
          "metadata": {}
        },
        {
          "output_type": "stream",
          "name": "stdout",
          "text": [
            "Project completed and report saved as report.txt\n"
          ]
        }
      ],
      "source": [
        "# Imports\n",
        "import pandas as pd\n",
        "import numpy as np\n",
        "import matplotlib.pyplot as plt\n",
        "import seaborn as sns\n",
        "import string\n",
        "import re\n",
        "\n",
        "from sklearn.model_selection import train_test_split\n",
        "from sklearn.feature_extraction.text import TfidfVectorizer\n",
        "from sklearn.linear_model import LogisticRegression\n",
        "from sklearn.metrics import classification_report, confusion_matrix, accuracy_score\n",
        "\n",
        "# 1. Data Collection\n",
        "df = pd.read_csv('Fake_Compressed.csv')\n",
        "print(\"Data loaded successfully. Shape:\", df.shape)\n",
        "\n",
        "# 2. Data Preprocessing\n",
        "df = df[['title', 'text']]  # Use relevant columns\n",
        "df['text'] = df['title'].fillna('') + ' ' + df['text'].fillna('')\n",
        "df.drop(columns=['title'], inplace=True)\n",
        "\n",
        "# Add a fake label (since the dataset is \"Fake.csv\", assume label = 1 for all rows)\n",
        "df['label'] = 1\n",
        "\n",
        "# Clean text function\n",
        "def clean_text(text):\n",
        "    text = text.lower()\n",
        "    text = re.sub(r\"http\\S+|www\\S+|https\\S+\", '', text, flags=re.MULTILINE)  # URLs\n",
        "    text = re.sub(r'\\@w+|\\#', '', text)  # mentions and hashtags\n",
        "    text = re.sub(r'[%s]' % re.escape(string.punctuation), '', text)  # punctuation\n",
        "    text = re.sub(r'\\d+', '', text)  # numbers\n",
        "    text = text.strip()\n",
        "    return text\n",
        "\n",
        "df['clean_text'] = df['text'].apply(clean_text)\n",
        "\n",
        "# 3. Feature Engineering\n",
        "tfidf = TfidfVectorizer(stop_words='english', max_df=0.7)\n",
        "X = tfidf.fit_transform(df['clean_text'])\n",
        "y = df['label']  # All labels = 1 (fake)\n",
        "\n",
        "# Here we simulate some real labels by adding \"Real\" data\n",
        "# For demo purposes only\n",
        "real_df = df.sample(frac=1.0).copy()\n",
        "real_df['label'] = 0\n",
        "combined = pd.concat([df, real_df])\n",
        "X = tfidf.fit_transform(combined['clean_text'])\n",
        "y = combined['label']\n",
        "\n",
        "# 4. Model Building & 5. Training\n",
        "X_train, X_test, y_train, y_test = train_test_split(X, y, test_size=0.2, random_state=42)\n",
        "\n",
        "model = LogisticRegression()\n",
        "model.fit(X_train, y_train)\n",
        "\n",
        "# 6. Evaluation\n",
        "y_pred = model.predict(X_test)\n",
        "print(\"\\nClassification Report:\")\n",
        "print(classification_report(y_test, y_pred))\n",
        "\n",
        "print(\"Accuracy Score:\", accuracy_score(y_test, y_pred))\n",
        "print(\"Confusion Matrix:\")\n",
        "print(confusion_matrix(y_test, y_pred))\n",
        "\n",
        "# 7. Visualization\n",
        "sns.heatmap(confusion_matrix(y_test, y_pred), annot=True, fmt=\"d\", cmap=\"Blues\")\n",
        "plt.title(\"Confusion Matrix\")\n",
        "plt.xlabel(\"Predicted\")\n",
        "plt.ylabel(\"Actual\")\n",
        "plt.show()\n",
        "\n",
        "# 8. Report Writing (Simple Log)\n",
        "with open(\"report.txt\", \"w\") as f:\n",
        "    f.write(\"Model Evaluation Report\\n\")\n",
        "    f.write(\"------------------------\\n\")\n",
        "    f.write(classification_report(y_test, y_pred))\n",
        "    f.write(\"\\nAccuracy: \" + str(accuracy_score(y_test, y_pred)))\n",
        "\n",
        "# 9. Project Management - Example Logging\n",
        "print(\"Project completed and report saved as report.txt\")"
      ]
    }
  ]
}